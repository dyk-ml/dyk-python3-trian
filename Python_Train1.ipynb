{
 "cells": [
  {
   "cell_type": "markdown",
   "metadata": {
    "nbpresent": {
     "id": "380df169-ee7e-403a-b8ef-18720685c061"
    }
   },
   "source": [
    "# Why Python ？\n",
    "* 简单   \n",
    "life is short ,i use python\n",
    "  \n",
    "  \n",
    "* 强大  \n",
    "极其丰富的第三方库。几乎能做任何高级语言的工作，YouTube、Instagram，豆瓣等网站都是用python开发。  \n",
    "机器学习，人工智能专属，你值得了解一下\n",
    "\n",
    "####  缺点：\n",
    "* 运行速度慢  \n",
    "解释型语言，代码在执行时通过解释器一行一行地翻译成CPU能理解的机器码，C,C++,Java都是先编译再运行\n",
    "\n",
    "\n",
    "* 代码不能加密  \n",
    "编译型语言发布的都是机器码，解释型语言都是源码"
   ]
  },
  {
   "cell_type": "markdown",
   "metadata": {
    "nbpresent": {
     "id": "d8afef86-9884-4528-b3e3-415fde4b6ee4"
    }
   },
   "source": [
    "# Python 安装\n",
    "\n",
    "* **anaconda科学计算包**  \n",
    "numpy,scipy,pandas,matplolib,scikit-learn ...\n",
    "\n",
    "\n",
    "* **python2和python3**  \n",
    "建议安装python3\n",
    "\n",
    "\n",
    "* **python IDE**  \n",
    "推荐pycharm"
   ]
  },
  {
   "cell_type": "markdown",
   "metadata": {
    "nbpresent": {
     "id": "430ccb73-924e-44e1-b909-7a9db7a74172"
    }
   },
   "source": [
    "# Python 语法\n",
    "\n",
    "### 1. 打印输出\n",
    "* java:  \n",
    "\n",
    " public class HelloWorld {   \n",
    "        public static void main(String[] args){  \n",
    "            System.out.println(\"Hello World!\"); \n",
    "            \n",
    "        }  \n",
    "}\n",
    "\n",
    "\n",
    "* C++：  \n",
    "#include <iostream>\n",
    "  using namespace std:     \n",
    "  int main()  \n",
    "  {  \n",
    "    cout<<\"hello world\"<<endl;  \n",
    "    return 0;  \n",
    "  }  "
   ]
  },
  {
   "cell_type": "code",
   "execution_count": null,
   "metadata": {
    "nbpresent": {
     "id": "23659033-517d-40b2-9893-c1b171d5e4a7"
    }
   },
   "outputs": [],
   "source": [
    "print (\"hello world!\")"
   ]
  },
  {
   "cell_type": "code",
   "execution_count": null,
   "metadata": {
    "nbpresent": {
     "id": "c9c9dfac-bed4-436a-b57e-5e04ad66a7dc"
    }
   },
   "outputs": [],
   "source": [
    "print (1.5)"
   ]
  },
  {
   "cell_type": "markdown",
   "metadata": {
    "nbpresent": {
     "id": "db1966bc-8039-468f-ace4-dabf14917866"
    }
   },
   "source": [
    "### 2. 变量（数据类型）"
   ]
  },
  {
   "cell_type": "code",
   "execution_count": null,
   "metadata": {
    "nbpresent": {
     "id": "c680ce78-dbb3-4f28-a3a5-3f7df59fb423"
    }
   },
   "outputs": [],
   "source": [
    "#字符\n",
    "message='hello python'\n",
    "print(message)"
   ]
  },
  {
   "cell_type": "code",
   "execution_count": null,
   "metadata": {},
   "outputs": [],
   "source": [
    "#整型\n",
    "number=1\n",
    "print (number)"
   ]
  },
  {
   "cell_type": "code",
   "execution_count": null,
   "metadata": {
    "nbpresent": {
     "id": "721dc306-2a5b-47e1-b58e-692c61f3a563"
    }
   },
   "outputs": [],
   "source": [
    "#浮点型\n",
    "number2=1.0\n",
    "print (number2)"
   ]
  },
  {
   "cell_type": "code",
   "execution_count": null,
   "metadata": {},
   "outputs": [],
   "source": [
    "#布尔型\n",
    "sbool=True\n",
    "print(sbool)"
   ]
  },
  {
   "cell_type": "code",
   "execution_count": null,
   "metadata": {},
   "outputs": [],
   "source": [
    "message+number"
   ]
  },
  {
   "cell_type": "markdown",
   "metadata": {},
   "source": [
    "### 3. 类型转化及数值运算"
   ]
  },
  {
   "cell_type": "code",
   "execution_count": null,
   "metadata": {},
   "outputs": [],
   "source": [
    "int(number2)"
   ]
  },
  {
   "cell_type": "code",
   "execution_count": null,
   "metadata": {},
   "outputs": [],
   "source": [
    "str(number)"
   ]
  },
  {
   "cell_type": "code",
   "execution_count": null,
   "metadata": {
    "scrolled": true
   },
   "outputs": [],
   "source": [
    "float(number)"
   ]
  },
  {
   "cell_type": "code",
   "execution_count": null,
   "metadata": {},
   "outputs": [],
   "source": [
    "int(sbool)"
   ]
  },
  {
   "cell_type": "code",
   "execution_count": null,
   "metadata": {},
   "outputs": [],
   "source": [
    "1/2"
   ]
  },
  {
   "cell_type": "code",
   "execution_count": null,
   "metadata": {},
   "outputs": [],
   "source": [
    "3//2"
   ]
  },
  {
   "cell_type": "code",
   "execution_count": null,
   "metadata": {},
   "outputs": [],
   "source": [
    "import math  \n",
    "math.ceil(2.3)"
   ]
  },
  {
   "cell_type": "code",
   "execution_count": null,
   "metadata": {},
   "outputs": [],
   "source": [
    "1+2"
   ]
  },
  {
   "cell_type": "code",
   "execution_count": null,
   "metadata": {},
   "outputs": [],
   "source": [
    "1-2"
   ]
  },
  {
   "cell_type": "code",
   "execution_count": null,
   "metadata": {},
   "outputs": [],
   "source": [
    "1*2"
   ]
  },
  {
   "cell_type": "code",
   "execution_count": null,
   "metadata": {},
   "outputs": [],
   "source": [
    "2**2"
   ]
  },
  {
   "cell_type": "code",
   "execution_count": null,
   "metadata": {},
   "outputs": [],
   "source": [
    "1%2"
   ]
  },
  {
   "cell_type": "markdown",
   "metadata": {},
   "source": [
    "### 4. 数据结构\n",
    "#### 4.1列表 List"
   ]
  },
  {
   "cell_type": "code",
   "execution_count": null,
   "metadata": {},
   "outputs": [],
   "source": [
    "a=[1,2,4,5,6]\n",
    "a"
   ]
  },
  {
   "cell_type": "code",
   "execution_count": null,
   "metadata": {},
   "outputs": [],
   "source": [
    "b=list(['a',1,2])\n",
    "b"
   ]
  },
  {
   "cell_type": "code",
   "execution_count": null,
   "metadata": {},
   "outputs": [],
   "source": [
    "# 索引\n",
    "b[0],b[1]"
   ]
  },
  {
   "cell_type": "code",
   "execution_count": null,
   "metadata": {},
   "outputs": [],
   "source": [
    "# 长度\n",
    "len(b)"
   ]
  },
  {
   "cell_type": "code",
   "execution_count": null,
   "metadata": {},
   "outputs": [],
   "source": [
    "# 增加元素\n",
    "b.append(4)\n",
    "b"
   ]
  },
  {
   "cell_type": "code",
   "execution_count": null,
   "metadata": {},
   "outputs": [],
   "source": [
    "# 插入元素\n",
    "b.insert(1,'b')\n",
    "b"
   ]
  },
  {
   "cell_type": "code",
   "execution_count": null,
   "metadata": {},
   "outputs": [],
   "source": [
    "# 删除元素\n",
    "b.pop()\n",
    "b\n",
    "#删除指定位置元素pop(i)\n",
    "#删除指定元素remove(4)"
   ]
  },
  {
   "cell_type": "code",
   "execution_count": null,
   "metadata": {},
   "outputs": [],
   "source": [
    "# 修改\n",
    "b[1]=99"
   ]
  },
  {
   "cell_type": "code",
   "execution_count": null,
   "metadata": {},
   "outputs": [],
   "source": [
    "b"
   ]
  },
  {
   "cell_type": "markdown",
   "metadata": {},
   "source": [
    "#### 4.2元组 Tuple"
   ]
  },
  {
   "cell_type": "code",
   "execution_count": null,
   "metadata": {},
   "outputs": [],
   "source": [
    "c=(1,2,3,4)\n",
    "c"
   ]
  },
  {
   "cell_type": "code",
   "execution_count": null,
   "metadata": {},
   "outputs": [],
   "source": [
    "d=tuple((1,2,3,[4,5]))\n",
    "d"
   ]
  },
  {
   "cell_type": "code",
   "execution_count": null,
   "metadata": {},
   "outputs": [],
   "source": [
    "c[0]"
   ]
  },
  {
   "cell_type": "code",
   "execution_count": null,
   "metadata": {},
   "outputs": [],
   "source": [
    "d[3]"
   ]
  },
  {
   "cell_type": "code",
   "execution_count": null,
   "metadata": {},
   "outputs": [],
   "source": [
    "d[3][0]=44"
   ]
  },
  {
   "cell_type": "code",
   "execution_count": null,
   "metadata": {},
   "outputs": [],
   "source": [
    "d"
   ]
  },
  {
   "cell_type": "markdown",
   "metadata": {},
   "source": [
    "#### 4.3字典 Dict"
   ]
  },
  {
   "cell_type": "code",
   "execution_count": null,
   "metadata": {},
   "outputs": [],
   "source": [
    "flower={'color':'red','type':'rose'}"
   ]
  },
  {
   "cell_type": "code",
   "execution_count": null,
   "metadata": {},
   "outputs": [],
   "source": [
    "flower=dict({'color':'red','type':'rose'})\n",
    "flower"
   ]
  },
  {
   "cell_type": "code",
   "execution_count": null,
   "metadata": {},
   "outputs": [],
   "source": [
    "# 查找\n",
    "flower['color']"
   ]
  },
  {
   "cell_type": "code",
   "execution_count": null,
   "metadata": {},
   "outputs": [],
   "source": [
    "#增加\n",
    "flower['length']=25\n",
    "flower"
   ]
  },
  {
   "cell_type": "code",
   "execution_count": null,
   "metadata": {},
   "outputs": [],
   "source": [
    "#修改\n",
    "flower['color']='yellow'\n",
    "flower"
   ]
  },
  {
   "cell_type": "code",
   "execution_count": null,
   "metadata": {},
   "outputs": [],
   "source": [
    "#删除\n",
    "#del flower['length']\n",
    "#flower\n",
    "\n",
    "flower.pop('length')\n",
    "flower"
   ]
  },
  {
   "cell_type": "markdown",
   "metadata": {},
   "source": [
    "#### 4.4集合 set"
   ]
  },
  {
   "cell_type": "code",
   "execution_count": null,
   "metadata": {},
   "outputs": [],
   "source": [
    "s=set([1,2,3])\n",
    "s"
   ]
  },
  {
   "cell_type": "code",
   "execution_count": null,
   "metadata": {},
   "outputs": [],
   "source": [
    "s.add(4)\n",
    "s"
   ]
  },
  {
   "cell_type": "code",
   "execution_count": null,
   "metadata": {},
   "outputs": [],
   "source": [
    "s.remove(4)\n",
    "s"
   ]
  },
  {
   "cell_type": "markdown",
   "metadata": {},
   "source": [
    "### 5. 条件判断\n",
    "\n",
    "**问题：若数字为3的倍数则输出“Fizz”；若数字是5的倍数，则输出“Buzz”；\n",
    "若数字既是3的倍数又是5的倍数则输出“FizzBuzz”；其余数字输出数字本身**\n",
    "\n"
   ]
  },
  {
   "cell_type": "code",
   "execution_count": null,
   "metadata": {},
   "outputs": [],
   "source": [
    "n=15"
   ]
  },
  {
   "cell_type": "code",
   "execution_count": null,
   "metadata": {},
   "outputs": [],
   "source": [
    "if n % 3==0 and n % 5==0:\n",
    "    print ('FizzBuzz')\n",
    "elif n%3==0:\n",
    "    print ('Fizz')\n",
    "elif n%5==0:\n",
    "    print ('Buzz')\n",
    "else:\n",
    "    print (n)"
   ]
  },
  {
   "cell_type": "markdown",
   "metadata": {},
   "source": [
    "### 6.循环\n",
    "\n",
    "#### 6.1 while"
   ]
  },
  {
   "cell_type": "code",
   "execution_count": null,
   "metadata": {},
   "outputs": [],
   "source": [
    "#计算100以内的数字之和\n",
    "cond=0\n",
    "sum=0\n",
    "\n",
    "while cond<=100:\n",
    "    sum+=cond\n",
    "    cond=cond+1\n",
    "print (sum)"
   ]
  },
  {
   "cell_type": "code",
   "execution_count": null,
   "metadata": {},
   "outputs": [],
   "source": [
    "# break\n",
    "#cond=10就停止循环了\n",
    "\n",
    "cond=0\n",
    "sum=0\n",
    "\n",
    "while cond<=100:\n",
    "    sum+=cond\n",
    "    cond=cond+1\n",
    "    if cond==10:\n",
    "        break\n",
    "print (sum,cond)"
   ]
  },
  {
   "cell_type": "code",
   "execution_count": null,
   "metadata": {},
   "outputs": [],
   "source": [
    "# continue\n",
    "#cond为奇数就输出\n",
    "\n",
    "cond=0\n",
    "sum=0\n",
    "\n",
    "while cond<=10:\n",
    "    cond=cond+1\n",
    "    if cond%2==0:\n",
    "        continue\n",
    "    print (cond)"
   ]
  },
  {
   "cell_type": "markdown",
   "metadata": {},
   "source": [
    "#### 6.2 for..in .."
   ]
  },
  {
   "cell_type": "code",
   "execution_count": null,
   "metadata": {},
   "outputs": [],
   "source": [
    "names=['张永','叫膨沮','虔诚','林一缸']\n",
    "for i in names:\n",
    "    print (i)"
   ]
  },
  {
   "cell_type": "code",
   "execution_count": null,
   "metadata": {},
   "outputs": [],
   "source": [
    "sum=0\n",
    "for i in range(101):\n",
    "    sum+=i\n",
    "print (sum)"
   ]
  },
  {
   "cell_type": "code",
   "execution_count": null,
   "metadata": {},
   "outputs": [],
   "source": [
    "type(range(101))"
   ]
  },
  {
   "cell_type": "markdown",
   "metadata": {},
   "source": [
    "## Conclution：\n",
    "1. python简介 \n",
    "\n",
    "2. 数据类型 (字符,整型，浮点型，布尔型)\n",
    "\n",
    "3. 数据结构（list,tuple,dict,set）\n",
    "\n",
    "4. 条件判断 if\n",
    "\n",
    "5. 循环(while,for..in..)"
   ]
  },
  {
   "cell_type": "code",
   "execution_count": null,
   "metadata": {
    "nbpresent": {
     "id": "02393332-8f5f-451a-80ff-8f09d1ddaf0d"
    }
   },
   "outputs": [],
   "source": [
    "import this"
   ]
  },
  {
   "cell_type": "markdown",
   "metadata": {
    "nbpresent": {
     "id": "401f6032-f86d-4bb1-9156-57491f2d67b9"
    }
   },
   "source": [
    "### python 之禅\n",
    "优美胜于丑陋（Python 以编写优美的代码为目标）  \n",
    "明了胜于晦涩（优美的代码应当是明了的，命名规范，风格相似）   \n",
    "简洁胜于复杂（优美的代码应当是简洁的，不要有复杂的内部实现）   \n",
    "复杂胜于凌乱（如果复杂不可避免，那代码间也不能有难懂的关系，要保持接口简洁）   \n",
    "扁平胜于嵌套（优美的代码应当是扁平的，不能有太多的嵌套）   \n",
    "间隔胜于紧凑（优美的代码有适当的间隔，不要奢望一行代码解决问题）   \n",
    "可读性很重要（优美的代码是可读的）   \n",
    "即便假借特例的实用性之名，也不可违背这些规则（这些规则至高无上）   \n",
    "不要包容所有错误，除非你确定需要这样做（精准地捕获异常，不写 except:pass 风格的代码）   \n",
    "当存在多种可能，不要尝试去猜测   \n",
    "而是尽量找一种，最好是唯一一种明显的解决方案（如果不确定，就用穷举法）   \n",
    "虽然这并不容易，因为你不是 Python 之父（这里的 Dutch 是指 Guido ）   \n",
    "做也许好过不做，但不假思索就动手还不如不做（动手之前要细思量）   \n",
    "如果你无法向人描述你的方案，那肯定不是一个好方案；反之亦然（方案测评标准）   \n",
    "命名空间是一种绝妙的理念，我们应当多加利用（倡导与号召）  "
   ]
  },
  {
   "cell_type": "markdown",
   "metadata": {
    "collapsed": true,
    "nbpresent": {
     "id": "4a697bf1-3d91-47ff-aaf8-2721efd5248d"
    }
   },
   "source": [
    "## Practice"
   ]
  },
  {
   "cell_type": "markdown",
   "metadata": {},
   "source": [
    "1.修改FizzBuzz使用户自己输入一个数，从而打印FizzBuzz"
   ]
  },
  {
   "cell_type": "markdown",
   "metadata": {},
   "source": [
    "2.求1!+2!+3!+..+10!"
   ]
  },
  {
   "cell_type": "markdown",
   "metadata": {},
   "source": [
    "3.对一个数组进行选择排序,例:[4,2,3,1,5]  \n",
    "  思想:遍历数组依次选出最小值"
   ]
  },
  {
   "cell_type": "code",
   "execution_count": null,
   "metadata": {},
   "outputs": [],
   "source": []
  }
 ],
 "metadata": {
  "anaconda-cloud": {},
  "kernelspec": {
   "display_name": "Python 3",
   "language": "python",
   "name": "python3"
  },
  "language_info": {
   "codemirror_mode": {
    "name": "ipython",
    "version": 3
   },
   "file_extension": ".py",
   "mimetype": "text/x-python",
   "name": "python",
   "nbconvert_exporter": "python",
   "pygments_lexer": "ipython3",
   "version": "3.6.4"
  },
  "nbpresent": {
   "slides": {
    "33d69009-8773-4b15-9579-aca90ba589bb": {
     "id": "33d69009-8773-4b15-9579-aca90ba589bb",
     "prev": "37dd47e4-ba2e-4482-9481-b054290fd0bc",
     "regions": {
      "b4b20225-e9f1-460f-853d-86217ab8e373": {
       "attrs": {
        "height": 0.8,
        "width": 0.8,
        "x": 0.1,
        "y": 0.1
       },
       "content": {
        "cell": "4a697bf1-3d91-47ff-aaf8-2721efd5248d",
        "part": "whole"
       },
       "id": "b4b20225-e9f1-460f-853d-86217ab8e373"
      }
     }
    },
    "37dd47e4-ba2e-4482-9481-b054290fd0bc": {
     "id": "37dd47e4-ba2e-4482-9481-b054290fd0bc",
     "prev": "6433e4f7-b510-467c-8e9d-f03e14d365c2",
     "regions": {
      "fdcb6594-a88b-46af-a709-8dbd0797b674": {
       "attrs": {
        "height": 0.8,
        "width": 0.8,
        "x": 0.1,
        "y": 0.1
       },
       "content": {
        "cell": "401f6032-f86d-4bb1-9156-57491f2d67b9",
        "part": "whole"
       },
       "id": "fdcb6594-a88b-46af-a709-8dbd0797b674"
      }
     }
    },
    "6433e4f7-b510-467c-8e9d-f03e14d365c2": {
     "id": "6433e4f7-b510-467c-8e9d-f03e14d365c2",
     "prev": "a6019b5f-0c7d-4c45-b0f2-59037b6ba8bf",
     "regions": {
      "0df09a43-1298-4679-91cb-93b6cf85f077": {
       "attrs": {
        "height": 0.8,
        "width": 0.45,
        "x": 0.5,
        "y": 0.1
       },
       "content": null,
       "id": "0df09a43-1298-4679-91cb-93b6cf85f077"
      },
      "85454eac-1967-4388-9dac-081726a1ce1c": {
       "attrs": {
        "height": 0.8,
        "width": 0.45,
        "x": 0.05,
        "y": 0.1
       },
       "content": null,
       "id": "85454eac-1967-4388-9dac-081726a1ce1c"
      }
     }
    },
    "a6019b5f-0c7d-4c45-b0f2-59037b6ba8bf": {
     "id": "a6019b5f-0c7d-4c45-b0f2-59037b6ba8bf",
     "prev": "fc39e7b2-07df-42d7-80d8-9e599acf142a",
     "regions": {
      "355b404b-5735-4aac-b6cb-a1229f730c4b": {
       "attrs": {
        "height": 0.8,
        "width": 0.45,
        "x": 0.5,
        "y": 0.1
       },
       "id": "355b404b-5735-4aac-b6cb-a1229f730c4b"
      },
      "504d6261-befb-4910-afc2-90319c1e1143": {
       "attrs": {
        "height": 0.8,
        "width": 0.45,
        "x": 0.05,
        "y": 0.1
       },
       "id": "504d6261-befb-4910-afc2-90319c1e1143"
      }
     }
    },
    "fc39e7b2-07df-42d7-80d8-9e599acf142a": {
     "id": "fc39e7b2-07df-42d7-80d8-9e599acf142a",
     "prev": null,
     "regions": {
      "6e20ea28-b44e-4412-a6e1-9148837048e9": {
       "attrs": {
        "height": 0.8,
        "width": 0.8,
        "x": 0.1,
        "y": 0.1
       },
       "content": {
        "cell": "02393332-8f5f-451a-80ff-8f09d1ddaf0d",
        "part": "whole"
       },
       "id": "6e20ea28-b44e-4412-a6e1-9148837048e9"
      }
     }
    }
   },
   "themes": {
    "default": "8c9f4805-eb6d-4803-9b91-c354da7d9312",
    "theme": {
     "8c9f4805-eb6d-4803-9b91-c354da7d9312": {
      "backgrounds": {
       "dc7afa04-bf90-40b1-82a5-726e3cff5267": {
        "background-color": "31af15d2-7e15-44c5-ab5e-e04b16a89eff",
        "id": "dc7afa04-bf90-40b1-82a5-726e3cff5267"
       }
      },
      "id": "8c9f4805-eb6d-4803-9b91-c354da7d9312",
      "palette": {
       "19cc588f-0593-49c9-9f4b-e4d7cc113b1c": {
        "id": "19cc588f-0593-49c9-9f4b-e4d7cc113b1c",
        "rgb": [
         252,
         252,
         252
        ]
       },
       "31af15d2-7e15-44c5-ab5e-e04b16a89eff": {
        "id": "31af15d2-7e15-44c5-ab5e-e04b16a89eff",
        "rgb": [
         68,
         68,
         68
        ]
       },
       "50f92c45-a630-455b-aec3-788680ec7410": {
        "id": "50f92c45-a630-455b-aec3-788680ec7410",
        "rgb": [
         197,
         226,
         245
        ]
       },
       "c5cc3653-2ee1-402a-aba2-7caae1da4f6c": {
        "id": "c5cc3653-2ee1-402a-aba2-7caae1da4f6c",
        "rgb": [
         43,
         126,
         184
        ]
       },
       "efa7f048-9acb-414c-8b04-a26811511a21": {
        "id": "efa7f048-9acb-414c-8b04-a26811511a21",
        "rgb": [
         25.118061674008803,
         73.60176211453744,
         107.4819383259912
        ]
       }
      },
      "rules": {
       "a": {
        "color": "19cc588f-0593-49c9-9f4b-e4d7cc113b1c"
       },
       "blockquote": {
        "color": "50f92c45-a630-455b-aec3-788680ec7410",
        "font-size": 3
       },
       "code": {
        "font-family": "Anonymous Pro"
       },
       "h1": {
        "color": "19cc588f-0593-49c9-9f4b-e4d7cc113b1c",
        "font-family": "Merriweather",
        "font-size": 8
       },
       "h2": {
        "color": "19cc588f-0593-49c9-9f4b-e4d7cc113b1c",
        "font-family": "Merriweather",
        "font-size": 6
       },
       "h3": {
        "color": "50f92c45-a630-455b-aec3-788680ec7410",
        "font-family": "Lato",
        "font-size": 5.5
       },
       "h4": {
        "color": "c5cc3653-2ee1-402a-aba2-7caae1da4f6c",
        "font-family": "Lato",
        "font-size": 5
       },
       "h5": {
        "font-family": "Lato"
       },
       "h6": {
        "font-family": "Lato"
       },
       "h7": {
        "font-family": "Lato"
       },
       "li": {
        "color": "50f92c45-a630-455b-aec3-788680ec7410",
        "font-size": 3.25
       },
       "pre": {
        "font-family": "Anonymous Pro",
        "font-size": 4
       }
      },
      "text-base": {
       "color": "19cc588f-0593-49c9-9f4b-e4d7cc113b1c",
       "font-family": "Lato",
       "font-size": 4
      }
     }
    }
   }
  }
 },
 "nbformat": 4,
 "nbformat_minor": 1
}
