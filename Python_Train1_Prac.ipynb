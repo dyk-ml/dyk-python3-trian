{
 "cells": [
  {
   "cell_type": "markdown",
   "metadata": {},
   "source": [
    "1.修改FizzBuzz使用户自己输入一个数，从而打印FizzBuzz"
   ]
  },
  {
   "cell_type": "code",
   "execution_count": 14,
   "metadata": {},
   "outputs": [
    {
     "name": "stdout",
     "output_type": "stream",
     "text": [
      "please input a number:25\n",
      "let's play the game:\n",
      "Buzz\n"
     ]
    }
   ],
   "source": [
    "n=input('please input a number:')\n",
    "while n.isdigit()==False:\n",
    "    n=input(\"it's not a number,please put again:\")\n",
    "n=int(n)\n",
    "\n",
    "print (\"let's play the game:\")\n",
    "if n%5==0 and n%3==0:\n",
    "    print('FizzBuzz')\n",
    "elif n%5==0:\n",
    "    print ('Buzz')\n",
    "elif n%3==0:\n",
    "    print ('Fizz')\n",
    "else:\n",
    "    print (n)"
   ]
  },
  {
   "cell_type": "markdown",
   "metadata": {},
   "source": [
    "2.求1!+2!+3!+..+10!"
   ]
  },
  {
   "cell_type": "code",
   "execution_count": 20,
   "metadata": {},
   "outputs": [
    {
     "name": "stdout",
     "output_type": "stream",
     "text": [
      "409113\n"
     ]
    }
   ],
   "source": [
    "j=1\n",
    "s=0\n",
    "\n",
    "for i in range(1,10):\n",
    "    j*=i\n",
    "    s+=j\n",
    "print(s)"
   ]
  },
  {
   "cell_type": "markdown",
   "metadata": {},
   "source": [
    "3.对一个数组进行选择排序  \n",
    "思想:遍历数组依次选择最小值"
   ]
  },
  {
   "cell_type": "code",
   "execution_count": 115,
   "metadata": {},
   "outputs": [
    {
     "name": "stdout",
     "output_type": "stream",
     "text": [
      "[4, 2, 3, 1, 5]\n",
      "1\n",
      "[4, 2, 3, 5]\n",
      "2\n",
      "[4, 3, 5]\n",
      "3\n",
      "[4, 5]\n",
      "4\n",
      "[5]\n",
      "5\n"
     ]
    }
   ],
   "source": [
    "l=[4,2,3,1,5]\n",
    "newl=[]\n",
    "\n",
    "\n",
    "for j in range(len(l)):\n",
    "    print (l)\n",
    "    m=0\n",
    "    for i in range(len(l)):\n",
    "        if l[i]<l[m]:\n",
    "            m=i    \n",
    "    print (l[m])\n",
    "    newl.append(l[m])\n",
    "    l.pop(m)"
   ]
  },
  {
   "cell_type": "code",
   "execution_count": 116,
   "metadata": {},
   "outputs": [
    {
     "data": {
      "text/plain": [
       "[1, 2, 3, 4, 5]"
      ]
     },
     "execution_count": 116,
     "metadata": {},
     "output_type": "execute_result"
    }
   ],
   "source": [
    "newl"
   ]
  },
  {
   "cell_type": "code",
   "execution_count": 110,
   "metadata": {},
   "outputs": [],
   "source": [
    "l=[4,2,3,1,5,4]\n",
    "n=len(l)\n",
    "for i in range (0,n):\n",
    "    smin = i\n",
    "    for j in range(i+1,n):\n",
    "        if l[j]<l[smin]:\n",
    "            smin=j\n",
    "    l[smin],l[i]=l[i],l[smin]"
   ]
  },
  {
   "cell_type": "code",
   "execution_count": 112,
   "metadata": {},
   "outputs": [
    {
     "data": {
      "text/plain": [
       "[1, 2, 3, 4, 4, 5]"
      ]
     },
     "execution_count": 112,
     "metadata": {},
     "output_type": "execute_result"
    }
   ],
   "source": [
    "l"
   ]
  },
  {
   "cell_type": "code",
   "execution_count": null,
   "metadata": {},
   "outputs": [],
   "source": []
  }
 ],
 "metadata": {
  "kernelspec": {
   "display_name": "Python 3",
   "language": "python",
   "name": "python3"
  },
  "language_info": {
   "codemirror_mode": {
    "name": "ipython",
    "version": 3
   },
   "file_extension": ".py",
   "mimetype": "text/x-python",
   "name": "python",
   "nbconvert_exporter": "python",
   "pygments_lexer": "ipython3",
   "version": "3.6.4"
  }
 },
 "nbformat": 4,
 "nbformat_minor": 2
}
